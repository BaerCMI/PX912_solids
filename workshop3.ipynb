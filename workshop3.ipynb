{
 "cells": [
  {
   "cell_type": "markdown",
   "metadata": {},
   "source": [
    "\n",
    "# PX912: Solid Mechanics\n",
    "\n",
    "## Workshop 3\n",
    "\n",
    "These workshops are not marked, but they should help you to better understand theoretical aspects presented in the lectures, which should help you prepare for the PX912 viva, and practice solutions with Python coding. The latter will also be used in your coursework project. \n",
    "\n",
    "### Please run the cell below!\n",
    "\n",
    "This cell loads the core library written for this module. The core library contains hints, solution checking and grading. \n",
    "\n",
    "Make sure that the output of the previous cell is $\\texttt{Library Loaded!}$. "
   ]
  },
  {
   "cell_type": "code",
   "execution_count": null,
   "metadata": {},
   "outputs": [],
   "source": [
    "import sys, os\n",
    "sys.path.insert(0, os.getcwd()+'grader')\n",
    "from grader import workshop3 as ws3\n",
    "from grader import practice\n",
    "\n",
    "grader = ws3.Workshop3()"
   ]
  },
  {
   "cell_type": "markdown",
   "metadata": {},
   "source": [
    "This week we move on to finite element modelling in earnest. There are two questions; the first is about visualising shape functions (an important part of the FE modeller's toolkit), and the second is our first foray into finite element modelling in the form of a 1D problem.\n",
    "\n",
    "As before, let's first import the modules we need:"
   ]
  },
  {
   "cell_type": "code",
   "execution_count": null,
   "metadata": {},
   "outputs": [],
   "source": [
    "# SymPy Library: Symbolic Python\n",
    "import sympy as sym\n",
    "\n",
    "# Tell sympy to print things nicely\n",
    "sym.init_printing()\n",
    "\n",
    "# Numpy for numerics\n",
    "import numpy as np"
   ]
  },
  {
   "cell_type": "markdown",
   "metadata": {
    "editable": true,
    "slideshow": {
     "slide_type": ""
    },
    "tags": []
   },
   "source": [
    "## Question 1\n",
    "\n",
    "In lectures, we considered linear elements in 1D. This meant that the shape functions took the form\n",
    "$$\n",
    "N_i(X) = a_0+a_1X\n",
    "$$\n",
    "on each element.\n",
    "\n",
    "We now consider a three node quadratic element. We'll assume that the element spans the domain $-1 \\leq X \\leq 1$, as shown below:\n",
    "\n",
    "<img src=\"./grader/pictures/problem1.png\" alt=\"Drawing\" style=\"width: 400px;\"/>\n",
    "\n",
    "In this case, we need to find 3 independent functions $N_i(X)$ on this domain of the form\n",
    "$$\n",
    "N_i(X) = a_0 + a_1 X + a_2 X^2.\n",
    "$$\n",
    "We will again enforce the Kronecker delta condition $N_i(X_j) = \\delta_{ij}$, where $X_j$ are the nodes.\n",
    "\n",
    "### a)\n",
    "Find the independent quadratic shape functions satisfying the condition above.\n",
    "\n",
    "It is recommended to use sym.Rational (https://docs.sympy.org/latest/modules/core.html#sympy.core.numbers.Rational) for the coefficients which are fractions."
   ]
  },
  {
   "cell_type": "code",
   "execution_count": null,
   "metadata": {
    "editable": true,
    "slideshow": {
     "slide_type": ""
    },
    "tags": []
   },
   "outputs": [],
   "source": [
    "x = sym.symbols('x')\n",
    "\n",
    "# Store the functions\n",
    "N1 = ...\n",
    "N2 = ...\n",
    "N3 = ...\n",
    "N1,N2,N3"
   ]
  },
  {
   "cell_type": "code",
   "execution_count": null,
   "metadata": {
    "editable": true,
    "slideshow": {
     "slide_type": ""
    },
    "tags": []
   },
   "outputs": [],
   "source": [
    "# HINT AND SOLUTION\n",
    "#grader.hint1a()\n",
    "grader.check1a(N1, N2, N3)"
   ]
  },
  {
   "cell_type": "markdown",
   "metadata": {
    "editable": true,
    "slideshow": {
     "slide_type": ""
    },
    "tags": []
   },
   "source": [
    "### b)\n",
    "\n",
    "Plot the functions you found on the same plot using Sympy sym.plotting.plot() (https://docs.sympy.org/latest/modules/plotting.html#sympy.plotting.plot.plot)"
   ]
  },
  {
   "cell_type": "code",
   "execution_count": null,
   "metadata": {
    "editable": true,
    "slideshow": {
     "slide_type": ""
    },
    "tags": []
   },
   "outputs": [],
   "source": [
    "p = ..."
   ]
  },
  {
   "cell_type": "code",
   "execution_count": null,
   "metadata": {
    "editable": true,
    "slideshow": {
     "slide_type": ""
    },
    "tags": []
   },
   "outputs": [],
   "source": [
    "# HINT\n",
    "#grader.hint1b()"
   ]
  },
  {
   "cell_type": "markdown",
   "metadata": {},
   "source": [
    "\n",
    "### c)\n",
    "\n",
    "Now evaluate the corresponding stiffness matrix. As in the lecture, this will have entries\n",
    "$$\n",
    "K_{ij} = \\int_{-1}^1 E\\frac{dN_i}{dX}\\frac{dN_j}{dX}\\,dX.\n",
    "$$\n",
    "or in matrix format:\n",
    "$$\n",
    "\\mathbf{K} = \\int_{-1}^1 E \\mathbf{B}^T\\mathbf{B}dX\n",
    "$$\n",
    "where\n",
    "$$\n",
    "\\mathbf{B}(X) = \\frac{d\\mathbf{N}}{dX}(X) \n",
    "$$\n",
    "You can do the integration yourself by hand, or by using the SymPy sym.integrate() function (https://docs.sympy.org/latest/modules/integrals/integrals.html#sympy.integrals.integrals.integrate)."
   ]
  },
  {
   "cell_type": "code",
   "execution_count": null,
   "metadata": {},
   "outputs": [],
   "source": [
    "# Vector of shape functions:\n",
    "N = sym.Matrix([N1, N2, N3]).T\n",
    "\n",
    "# dN/dx\n",
    "B = ...\n",
    "\n",
    "# Define the new symbols\n",
    "E = sym.symbols('E')\n",
    "\n",
    "# Setup the integrand\n",
    "integrand = ...\n",
    "\n",
    "# Evaluate stiffness matrix\n",
    "K = ...\n",
    "\n",
    "K"
   ]
  },
  {
   "cell_type": "code",
   "execution_count": null,
   "metadata": {},
   "outputs": [],
   "source": [
    "# HINT AND SOLUTION\n",
    "#grader.hint1c()\n",
    "grader.check1c(K)"
   ]
  },
  {
   "cell_type": "markdown",
   "metadata": {},
   "source": [
    "## Question 2\n",
    "\n",
    "### FROM THIS POINT ON WE WILL STOP USING SYMPY. All solutions to this question should be in the form of `numpy` arrays.\n",
    "\n",
    "We consider a three-bar system between two rigid walls with a force of 10N applied to the centre of the system, as illustrated. Our task is to evaluate displacements and forces acting at the various nodes.\n",
    "\n",
    "<img src=\"./grader/pictures/problem2.png\" alt=\"Drawing\" style=\"width: 500px;\"/>\n",
    "\n",
    "**Note:** It's not too important exactly which order you do parts (a)-(e) for this question, as long as you solve for the displacement and reaction forces correctly in the end!"
   ]
  },
  {
   "cell_type": "markdown",
   "metadata": {},
   "source": [
    "### a)\n",
    "\n",
    "Look back at the integral we computed in the lecture. One way to think about what we did was that we got contributions to the stiffness matrix coming from the `overlap' of shape functions on each element. For linear shape functions in 1D problems involving rods, the contribution to the stiffness matrix coming from the interaction of two shape functions on a single element always looks like\n",
    "$$\n",
    "\\left(\n",
    "\\begin{array}{cc}\n",
    "k^{(e)} & -k^{(e)} \\\\\n",
    "-k^{(e)} & k^{(e)}\n",
    "\\end{array}\n",
    "\\right),\n",
    "$$\n",
    "This is the **element stiffness matrix**, where $k^{(e)}=E^{(e)}A^{(e)}/L^{(e)}$, where $E$ is the Young's modulus of the material, $A$ is the cross-sectional area of the rod and $L$ is the length of the element (the same as the $h$ used in the lecture where we had elements of equal length). We neglected the $A$ factor in the lecture since we were considering only one rod; here we consider multiple rods with different cross-sectional areas!\n",
    "\n",
    "Using this idea, assemble the global stiffness matrix by *direct assembly* using linear elements. Look at each element in turn (treat the two parallel rods as separate elements), and add stiffness submatrices to put together the global stiffness matrix.\n",
    "\n",
    "You may find it useful to use the function `np.ix_`; documentation can be found at [here](https://numpy.org/doc/stable/reference/generated/numpy.ix_.html)."
   ]
  },
  {
   "cell_type": "code",
   "execution_count": null,
   "metadata": {},
   "outputs": [],
   "source": [
    "def assemble_global_stiffness(element_matrices, global_indices):\n",
    "   \n",
    "    # Global stiffness matrix\n",
    "    K_global = np.zeros((3,3))\n",
    "    \n",
    "    for matrix, indices in zip(element_matrices,global_indices):\n",
    "        # YOUR CODE HERE\n",
    "        raise NotImplementedError\n",
    "        \n",
    "    return K_global"
   ]
  },
  {
   "cell_type": "markdown",
   "metadata": {},
   "source": [
    "Form the reduced system of equations using the given boundary conditions."
   ]
  },
  {
   "cell_type": "markdown",
   "metadata": {},
   "source": [
    "Solve the system of equations using definitions of elemental stiffness\n",
    "$$\n",
    "k^{(e)} = \\frac{E^{(e)} A^{(e)}}{L^{(e)}}\n",
    "$$\n",
    "where the relevant values of the Young modulus, $E^{(e)}$, cross sectional area, $A^{(e)}$, and bar length, $L^{(e)}$ are as follows:\n",
    "* Bar 1: $E^{(e)} = 1.0 \\times 10^{10} \\text{Pa}$,  $A^{(e)} = 1.0 \\times 10^{-6} \\text{m}^{-2}$, $L^{(e)} = 0.1 \\text{m}$\n",
    "* Bar 2: $E^{(e)} = 1.0 \\times 10^{10} \\text{Pa}$,  $A^{(e)} = 1.0 \\times 10^{-6} \\text{m}^{-2}$, $L^{(e)} = 0.1 \\text{m}$\n",
    "* Bar 3: $E^{(e)} = 5.0 \\times 10^{9} \\text{Pa}$,  $A^{(e)} = 0.5 \\times 10^{-6} \\text{m}^{-2}$, $L^{(e)} = 0.05 \\text{m}$"
   ]
  },
  {
   "cell_type": "code",
   "execution_count": null,
   "metadata": {},
   "outputs": [],
   "source": [
    "# Specify stiffness constants for each element\n",
    "k_1 = ...\n",
    "k_2 = ...\n",
    "k_3 = ...\n",
    "\n",
    "# K_1 element stiffness matrix\n",
    "K_1 = ...\n",
    "\n",
    "# K_1 global indices (using python indexing)\n",
    "nodes_1 = ...\n",
    "\n",
    "#K_2 element stiffness matrix\n",
    "K_2 = ...\n",
    "\n",
    "#K_2 global indices\n",
    "nodes_2 = ...\n",
    "\n",
    "#K_3 element stiffness matrix\n",
    "K_3 = ...\n",
    "\n",
    "#K_3 global indices\n",
    "nodes_3 = ...\n",
    "\n",
    "# Lists of element matrices and indices\n",
    "matrices = [K_1,K_2,K_3]\n",
    "indices = [nodes_1,nodes_2,nodes_3]\n",
    "\n",
    "K_global = assemble_global_stiffness(matrices, indices)\n",
    "\n",
    "# Display it\n",
    "print(K_global)"
   ]
  },
  {
   "cell_type": "code",
   "execution_count": null,
   "metadata": {},
   "outputs": [],
   "source": [
    "# HINT AND SOLUTION\n",
    "#grader.hint2a()\n",
    "grader.check2a(K_global)"
   ]
  },
  {
   "cell_type": "markdown",
   "metadata": {},
   "source": [
    "### b)\n",
    "The global system of equations we are trying to solve is\n",
    "$$\n",
    "\\mathbf{Kd} = -\\mathbf{f}\n",
    "$$\n",
    "where $\\mathbf{f}$ encodes the forces acting in the domain and aspects of the boundary conditions, i.e. displacements, external foces and reaction forces.\n",
    "The system of equations is partitioned into E -nodes and F -nodes, where E\n",
    "stands for essential and F for free.\n",
    "Free nodes are nodes that aren't fixed and are thus allowed to move. There are no reaction forces on free nodes. On the other hand, essential nodes don't experience any external forces.\n",
    "This lets us  partition the global system of equations as follows\n",
    "\n",
    "$$\n",
    "\\begin{bmatrix}\n",
    "\\mathbf{K_E} \\, \\mathbf{K_{EF}} \\\\\n",
    "\\mathbf{K_{EF}} \\, \\mathbf{K_F}\n",
    "\\end{bmatrix}\n",
    "\\begin{bmatrix}\n",
    "\\mathbf{d_E} \\\\\n",
    "\\mathbf{d_F}\n",
    "\\end{bmatrix}\n",
    "=\n",
    "\\begin{bmatrix}\n",
    "\\mathbf{r_E} \\\\\n",
    "\\mathbf{f_F}\n",
    "\\end{bmatrix}\n",
    "$$\n",
    "\n",
    "where $\\mathbf{K_{EF}}$ are the stiffness coefficients that are associated both with essential and free nodes."
   ]
  },
  {
   "cell_type": "markdown",
   "metadata": {},
   "source": [
    "Since nodes 1 and 2 are fixed, only node 3 will have displacement associated with it. Evaluate the displacement of node 3. For this you will need the stiffness coefficients from the global stiffness matrix that are **only** associated with the free node."
   ]
  },
  {
   "cell_type": "code",
   "execution_count": null,
   "metadata": {
    "scrolled": true
   },
   "outputs": [],
   "source": [
    "F_3 = ...\n",
    "K_F = ...\n",
    "\n",
    "# Evaluate displacement using the reduced system of equations\n",
    "d_3 = ...\n",
    "\n",
    "print(d_3)"
   ]
  },
  {
   "cell_type": "code",
   "execution_count": null,
   "metadata": {},
   "outputs": [],
   "source": [
    "# HINT AND SOLUTION\n",
    "#grader.hint2b()\n",
    "grader.check2b(d_3)"
   ]
  },
  {
   "cell_type": "markdown",
   "metadata": {},
   "source": [
    "### c)\n",
    "\n",
    "Evaluate the reaction forces acting at nodes 1 and 2. This will require you to evaluate the $\\mathbf{K_{EF}}$ stiffness coefficients multiplied by an appropriate strain."
   ]
  },
  {
   "cell_type": "code",
   "execution_count": null,
   "metadata": {},
   "outputs": [],
   "source": [
    "K_EF = ...\n",
    "\n",
    "# Take the product of the above and d3\n",
    "R_F = ...\n",
    "\n",
    "print(R_F)"
   ]
  },
  {
   "cell_type": "code",
   "execution_count": null,
   "metadata": {},
   "outputs": [],
   "source": [
    "# HINT AND SOLUTION\n",
    "#grader.hint2c()\n",
    "grader.check2c(R_F)"
   ]
  },
  {
   "cell_type": "markdown",
   "metadata": {},
   "source": [
    "### d)\n",
    "\n",
    "Calculate elemental strains/stresses. Remember that you are considering every element individually, thus each element only has 2 nodes."
   ]
  },
  {
   "cell_type": "code",
   "execution_count": null,
   "metadata": {},
   "outputs": [],
   "source": [
    "# 2 Node shape functions\n",
    "\n",
    "# Derivatives of shape functions (1D numpy array of length 2 (2 nodes))\n",
    "dN_1dx = ...\n",
    "dN_2dx = ...\n",
    "dN_3dx = ...\n",
    "\n",
    "# elemental strains given by B_i*d_i\n",
    "eps_1 = ...\n",
    "eps_2 = ...\n",
    "eps_3 = ...\n",
    "\n",
    "print('Strains are: ', eps_1, eps_2, eps_3)\n",
    "\n",
    "# elemental stresses given by E*eps_i\n",
    "sigma_1 = ...\n",
    "sigma_2 = ...\n",
    "sigma_3 = ...\n",
    "\n",
    "print('Stresses are: ', sigma_1, sigma_2, sigma_3)"
   ]
  },
  {
   "cell_type": "code",
   "execution_count": null,
   "metadata": {},
   "outputs": [],
   "source": [
    "# HINT AND SOLUTION\n",
    "#grader.hint2d()\n",
    "grader.check2d(eps_1,\n",
    "               eps_2,\n",
    "               eps_3,\n",
    "               sigma_1,\n",
    "               sigma_2,\n",
    "               sigma_3)"
   ]
  },
  {
   "cell_type": "markdown",
   "metadata": {},
   "source": [
    "\n",
    "## Results\n",
    "\n",
    "Run the box below to check your progress."
   ]
  },
  {
   "cell_type": "code",
   "execution_count": null,
   "metadata": {},
   "outputs": [],
   "source": [
    "grader.results()"
   ]
  }
 ],
 "metadata": {
  "kernelspec": {
   "display_name": "Python 3 (ipykernel)",
   "language": "python",
   "name": "python3"
  },
  "language_info": {
   "codemirror_mode": {
    "name": "ipython",
    "version": 3
   },
   "file_extension": ".py",
   "mimetype": "text/x-python",
   "name": "python",
   "nbconvert_exporter": "python",
   "pygments_lexer": "ipython3",
   "version": "3.10.12"
  },
  "toc": {
   "base_numbering": 1,
   "nav_menu": {},
   "number_sections": true,
   "sideBar": true,
   "skip_h1_title": false,
   "title_cell": "Table of Contents",
   "title_sidebar": "Contents",
   "toc_cell": false,
   "toc_position": {},
   "toc_section_display": true,
   "toc_window_display": false
  }
 },
 "nbformat": 4,
 "nbformat_minor": 4
}
