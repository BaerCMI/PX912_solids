{
 "cells": [
  {
   "cell_type": "markdown",
   "metadata": {},
   "source": [
    "\n",
    "# PX912: Solid Mechanics\n",
    "\n",
    "## Workshop 3\n",
    "\n",
    "These workshops are not marked, but they should help you to better understand theoretical aspects presented in the lectures, which should help you prepare for the PX912 viva, and practice solutions with Python coding. The latter will also be used in your coursework project. \n",
    "\n",
    "### Please run the cell below!\n",
    "\n",
    "This cell loads the core library written for this module. The core library contains hints, solution checking and grading. \n",
    "\n",
    "Make sure that the output of the previous cell is $\\texttt{Library Loaded!}$. "
   ]
  },
  {
   "cell_type": "code",
   "execution_count": null,
   "metadata": {},
   "outputs": [],
   "source": [
    "import sys, os\n",
    "sys.path.insert(0, os.getcwd()+'grader')\n",
    "from grader import workshop3 as ws3\n",
    "from grader import practice\n",
    "\n",
    "grader = ws3.Workshop3()"
   ]
  },
  {
   "cell_type": "markdown",
   "metadata": {},
   "source": [
    "This week we move on to finite element modelling in earnest. There are two questions; the first is about visualising shape functions (an important part of the FE modeller's toolkit), and the second is our first foray into finite element modelling in the form of a 1D problem.\n",
    "\n",
    "As before, let's first import the modules we need:"
   ]
  },
  {
   "cell_type": "code",
   "execution_count": null,
   "metadata": {},
   "outputs": [],
   "source": [
    "# SymPy Library: Symbolic Python\n",
    "import sympy as sym\n",
    "\n",
    "# Tell sympy to print things nicely\n",
    "sym.init_printing()\n",
    "\n",
    "# Numpy for numerics\n",
    "import numpy as np"
   ]
  },
  {
   "cell_type": "markdown",
   "metadata": {
    "editable": true,
    "slideshow": {
     "slide_type": ""
    },
    "tags": []
   },
   "source": [
    "## Question 1\n",
    "\n",
    "We consider a three node quadratic element in the (local) coordinate system $-1 \\leq \\xi \\leq 1$, as shown below:\n",
    "\n",
    "<img src=\"./grader/pictures/problem1.png\" alt=\"Drawing\" style=\"width: 400px;\"/>\n",
    "\n",
    "### a)\n",
    "Find the shape functions. Similar to the ones in the lecture notes, the shape functions are quadratics, and they are constrained by the fact that they must be equal to one at one node and equal to zero at the others. However an extra degree needs to be added for the third node.\n",
    "\n",
    "It is recommended to use sym.Rational (https://docs.sympy.org/latest/modules/core.html#sympy.core.numbers.Rational) for the coefficients which are fractions."
   ]
  },
  {
   "cell_type": "code",
   "execution_count": null,
   "metadata": {
    "editable": true,
    "slideshow": {
     "slide_type": ""
    },
    "tags": []
   },
   "outputs": [],
   "source": [
    "x = sym.symbols('x')\n",
    "\n",
    "# Store the functions\n",
    "y1 = ...\n",
    "y2 = ...\n",
    "y3 = ...\n",
    "y1,y2,y3"
   ]
  },
  {
   "cell_type": "code",
   "execution_count": null,
   "metadata": {
    "editable": true,
    "slideshow": {
     "slide_type": ""
    },
    "tags": []
   },
   "outputs": [],
   "source": [
    "# HINT AND SOLUTION\n",
    "#grader.hint1a()\n",
    "grader.check1a(y1, y2, y3)"
   ]
  },
  {
   "cell_type": "markdown",
   "metadata": {
    "editable": true,
    "slideshow": {
     "slide_type": ""
    },
    "tags": []
   },
   "source": [
    "### b)\n",
    "\n",
    "Plot them all on the same plot using Sympy sym.plotting.plot() (https://docs.sympy.org/latest/modules/plotting.html#sympy.plotting.plot.plot)"
   ]
  },
  {
   "cell_type": "code",
   "execution_count": null,
   "metadata": {
    "editable": true,
    "slideshow": {
     "slide_type": ""
    },
    "tags": []
   },
   "outputs": [],
   "source": [
    "p = ..."
   ]
  },
  {
   "cell_type": "code",
   "execution_count": null,
   "metadata": {
    "editable": true,
    "slideshow": {
     "slide_type": ""
    },
    "tags": []
   },
   "outputs": [],
   "source": [
    "# HINT\n",
    "#grader.hint1b()"
   ]
  },
  {
   "cell_type": "markdown",
   "metadata": {},
   "source": [
    "\n",
    "### c)\n",
    "\n",
    "Evaluate the elemental stiffness matrix. You can do integration using the SymPy sym.integrate() function (https://docs.sympy.org/latest/modules/integrals/integrals.html#sympy.integrals.integrals.integrate)"
   ]
  },
  {
   "cell_type": "code",
   "execution_count": null,
   "metadata": {},
   "outputs": [],
   "source": [
    "# Vector of shape functions:\n",
    "N = sym.Matrix([y1, y2, y3]).T\n",
    "\n",
    "# dN/dx\n",
    "B = ...\n",
    "\n",
    "# Define the new symbols\n",
    "A, E, L = sym.symbols('A E L')\n",
    "\n",
    "# Setup the integrand\n",
    "integrand = ...\n",
    "\n",
    "# Evaluate stiffness matrix\n",
    "k = ...\n",
    "\n",
    "k"
   ]
  },
  {
   "cell_type": "code",
   "execution_count": null,
   "metadata": {},
   "outputs": [],
   "source": [
    "# HINT AND SOLUTION\n",
    "#grader.hint1c()\n",
    "grader.check1c(k)"
   ]
  },
  {
   "cell_type": "markdown",
   "metadata": {},
   "source": [
    "## Question 2\n",
    "\n",
    "### FROM THIS POINT ON WE WILL STOP USING SYMPY. All solutions to this question should be in the form of `numpy` arrays.\n",
    "\n",
    "We consider a three-bar system between two walls with an applied force of 10N in the centre, as illustrated. Our task is to evaluate displacements and reactionary forces at the various nodes.\n",
    "\n",
    "<img src=\"./grader/pictures/problem2.png\" alt=\"Drawing\" style=\"width: 500px;\"/>\n",
    "\n",
    "**Note:** It's not too important exactly which order you do parts (a)-(e) for this question, as long as you solve for the displacement and reaction forces correctly in the end!"
   ]
  },
  {
   "cell_type": "markdown",
   "metadata": {},
   "source": [
    "\n",
    "### a)\n",
    "\n",
    "Assemble the global stiffness matrix by direct assembly. This can be done using np.ix_ (https://numpy.org/doc/stable/reference/generated/numpy.ix_.html)"
   ]
  },
  {
   "cell_type": "code",
   "execution_count": null,
   "metadata": {},
   "outputs": [],
   "source": [
    "def assemble_global_stiffness(element_matrices, global_indices):\n",
    "   \n",
    "    # Global stiffness matrix\n",
    "    K_global = np.zeros((3,3))\n",
    "    \n",
    "    for matrix, indices in zip(element_matrices,global_indices):\n",
    "        # YOUR CODE HERE\n",
    "        raise NotImplementedError\n",
    "        \n",
    "    return K_global"
   ]
  },
  {
   "cell_type": "markdown",
   "metadata": {},
   "source": [
    "Form the reduced system of equations using the given boundary conditions."
   ]
  },
  {
   "cell_type": "markdown",
   "metadata": {},
   "source": [
    "Solve the system of equations using definitions of elemental stiffness\n",
    "$$\n",
    "k^{(e)} = \\frac{E^{(e)} A^{(e)}}{L^{(e)}}\n",
    "$$\n",
    "where the relevant values of the Young modulus, $E^{(e)}$, cross sectional area, $A^{(e)}$, and bar length, $L^{(e)}$ are as follows:\n",
    "* Bar 1: $E^{(e)} = 1.0 \\times 10^{10} \\text{Pa}$,  $A^{(e)} = 1.0 \\times 10^{-6} \\text{m}^{-2}$, $L^{(e)} = 0.1 \\text{m}$\n",
    "* Bar 2: $E^{(e)} = 1.0 \\times 10^{10} \\text{Pa}$,  $A^{(e)} = 1.0 \\times 10^{-6} \\text{m}^{-2}$, $L^{(e)} = 0.1 \\text{m}$\n",
    "* Bar 3: $E^{(e)} = 5.0 \\times 10^{9} \\text{Pa}$,  $A^{(e)} = 0.5 \\times 10^{-6} \\text{m}^{-2}$, $L^{(e)} = 0.05 \\text{m}$"
   ]
  },
  {
   "cell_type": "code",
   "execution_count": null,
   "metadata": {},
   "outputs": [],
   "source": [
    "# Specify stiffness constants\n",
    "k_1 = ...\n",
    "k_2 = ...\n",
    "k_3 = ...\n",
    "\n",
    "# K_1 elemental matrix\n",
    "K_1 = ...\n",
    "\n",
    "# K_1 global indices (using python indexing)\n",
    "nodes_1 = ...\n",
    "\n",
    "#K_2 elemental matrix\n",
    "K_2 = ...\n",
    "\n",
    "#K_2 global indices\n",
    "nodes_2 = ...\n",
    "\n",
    "#K_3 elemental matrix\n",
    "K_3 = ...\n",
    "\n",
    "#K_3 global indices\n",
    "nodes_3 = ...\n",
    "\n",
    "# Lists of element matrices and indices\n",
    "matrices = [K_1,K_2,K_3]\n",
    "indices = [nodes_1,nodes_2,nodes_3]\n",
    "\n",
    "K_global = assemble_global_stiffness(matrices, indices)\n",
    "\n",
    "# Display it\n",
    "print(K_global)"
   ]
  },
  {
   "cell_type": "code",
   "execution_count": null,
   "metadata": {},
   "outputs": [],
   "source": [
    "# HINT AND SOLUTION\n",
    "#grader.hint2a()\n",
    "grader.check2a(K_global)"
   ]
  },
  {
   "cell_type": "markdown",
   "metadata": {},
   "source": [
    "### b)\n",
    "\n",
    "Evaluate the displacement of node 3."
   ]
  },
  {
   "cell_type": "code",
   "execution_count": null,
   "metadata": {
    "scrolled": true
   },
   "outputs": [],
   "source": [
    "F_3 = ...\n",
    "K_F = ...\n",
    "\n",
    "# Evaluate displacement using the reduced system of equations\n",
    "d_3 = ...\n",
    "\n",
    "print(d_3)"
   ]
  },
  {
   "cell_type": "code",
   "execution_count": null,
   "metadata": {},
   "outputs": [],
   "source": [
    "# HINT AND SOLUTION\n",
    "#grader.hint2b()\n",
    "grader.check2b(d_3)"
   ]
  },
  {
   "cell_type": "markdown",
   "metadata": {},
   "source": [
    "### c)\n",
    "\n",
    "Evaluate the reaction forces at nodes 1 and 2."
   ]
  },
  {
   "cell_type": "code",
   "execution_count": null,
   "metadata": {},
   "outputs": [],
   "source": [
    "K_EF = ...\n",
    "\n",
    "# Take the product of the above and d3\n",
    "R_F = ...\n",
    "\n",
    "print(R_F)"
   ]
  },
  {
   "cell_type": "code",
   "execution_count": null,
   "metadata": {},
   "outputs": [],
   "source": [
    "# HINT AND SOLUTION\n",
    "#grader.hint2c()\n",
    "grader.check2c(R_F)"
   ]
  },
  {
   "cell_type": "markdown",
   "metadata": {},
   "source": [
    "### d)\n",
    "\n",
    "Calculate elemental strains/stresses. Remember that you are considering every element individually, thus each element only has 2 nodes."
   ]
  },
  {
   "cell_type": "code",
   "execution_count": null,
   "metadata": {},
   "outputs": [],
   "source": [
    "# 2 Node shape functions\n",
    "\n",
    "# Derivatives of shape functions (1D numpy array of length 2 (2 nodes))\n",
    "dN_1dx = ...\n",
    "dN_2dx = ...\n",
    "dN_3dx = ...\n",
    "\n",
    "\n",
    "# elemental strains given by B_i*d_i\n",
    "eps_1 = ...\n",
    "eps_2 = ...\n",
    "eps_3 = ...\n",
    "\n",
    "print('Strains are: ', eps_1, eps_2, eps_3)\n",
    "\n",
    "# elemental stresses given by E*eps_i\n",
    "sigma_1 = ...\n",
    "sigma_2 = ...\n",
    "sigma_3 = ...\n",
    "\n",
    "print('Stresses are: ', sigma_1, sigma_2, sigma_3)"
   ]
  },
  {
   "cell_type": "code",
   "execution_count": null,
   "metadata": {},
   "outputs": [],
   "source": [
    "# HINT AND SOLUTION\n",
    "#grader.hint2d()\n",
    "grader.check2d(eps_1,\n",
    "               eps_2,\n",
    "               eps_3,\n",
    "               sigma_1,\n",
    "               sigma_2,\n",
    "               sigma_3)"
   ]
  },
  {
   "cell_type": "markdown",
   "metadata": {},
   "source": [
    "\n",
    "## Results\n",
    "\n",
    "Run the box below to check your progress."
   ]
  },
  {
   "cell_type": "code",
   "execution_count": null,
   "metadata": {},
   "outputs": [],
   "source": [
    "grader.results()"
   ]
  }
 ],
 "metadata": {
  "kernelspec": {
   "display_name": "Python 3 (ipykernel)",
   "language": "python",
   "name": "python3"
  },
  "language_info": {
   "codemirror_mode": {
    "name": "ipython",
    "version": 3
   },
   "file_extension": ".py",
   "mimetype": "text/x-python",
   "name": "python",
   "nbconvert_exporter": "python",
   "pygments_lexer": "ipython3",
   "version": "3.10.12"
  },
  "toc": {
   "base_numbering": 1,
   "nav_menu": {},
   "number_sections": true,
   "sideBar": true,
   "skip_h1_title": false,
   "title_cell": "Table of Contents",
   "title_sidebar": "Contents",
   "toc_cell": false,
   "toc_position": {},
   "toc_section_display": true,
   "toc_window_display": false
  }
 },
 "nbformat": 4,
 "nbformat_minor": 4
}
